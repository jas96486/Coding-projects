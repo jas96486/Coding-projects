{
 "cells": [
  {
   "cell_type": "code",
   "execution_count": 183,
   "metadata": {},
   "outputs": [],
   "source": [
    "import random\n",
    "suits = (\"Hearts\",'Diamonds','Spades','Clubs')\n",
    "ranks=('Two','Three','Four','Five','Six','Seven','Eight','Nine','Ten')\n",
    "values = {'Two':2,'Three':3,'Four':4,'Five':5,'Six':6,\"Seven\":7,'Eight':8,'Nine':9,'Ten':10,'Jack':11,'Quick':12,\"King\":13,\"Ace\":14}"
   ]
  },
  {
   "cell_type": "code",
   "execution_count": 184,
   "metadata": {},
   "outputs": [],
   "source": [
    "# Card Game\n",
    "class Card:\n",
    "    def __init__(self,suit,rank,):\n",
    "        self.suit=suit\n",
    "        self.rank=rank\n",
    "        self.values = values[rank]\n",
    "\n",
    "    def __str__(self):\n",
    "        return self.rank + \" of card\" + self.suit\n",
    "    "
   ]
  },
  {
   "cell_type": "code",
   "execution_count": 185,
   "metadata": {},
   "outputs": [],
   "source": [
    "three_of_clubs = Card('Clubs','Three')"
   ]
  },
  {
   "cell_type": "code",
   "execution_count": 186,
   "metadata": {},
   "outputs": [],
   "source": [
    "class Deck:\n",
    "    \n",
    "    def __init__(self):\n",
    "\n",
    "        self.all_cards = []\n",
    "\n",
    "        for suit in suits:\n",
    "            for rank in ranks:\n",
    "                craeted_card = Card(suit,rank)\n",
    "\n",
    "                self.all_cards.append(craeted_card)\n",
    "\n",
    "    def shuffle(self):\n",
    "\n",
    "        random.shuffle(self.all_cards)\n",
    "    def deal_one(self,player_one,player_two):\n",
    "        self.player_one = player_one\n",
    "        self.player_two = player_two\n",
    "        return self.all_cards()\n",
    "\n",
    "                "
   ]
  },
  {
   "cell_type": "code",
   "execution_count": 187,
   "metadata": {},
   "outputs": [],
   "source": [
    "new_deck = Deck()"
   ]
  },
  {
   "cell_type": "code",
   "execution_count": 188,
   "metadata": {},
   "outputs": [],
   "source": [
    "new_deck.shuffle()"
   ]
  },
  {
   "cell_type": "code",
   "execution_count": null,
   "metadata": {},
   "outputs": [],
   "source": [
    "\n",
    "\n"
   ]
  },
  {
   "cell_type": "code",
   "execution_count": 189,
   "metadata": {},
   "outputs": [
    {
     "name": "stdout",
     "output_type": "stream",
     "text": [
      "Ten of cardSpades\n"
     ]
    }
   ],
   "source": [
    "print(mycard)"
   ]
  },
  {
   "cell_type": "code",
   "execution_count": 190,
   "metadata": {},
   "outputs": [],
   "source": [
    "bottom_card = new_deck.all_cards[-1]"
   ]
  },
  {
   "cell_type": "code",
   "execution_count": 191,
   "metadata": {},
   "outputs": [
    {
     "name": "stdout",
     "output_type": "stream",
     "text": [
      "Ten of cardDiamonds\n"
     ]
    }
   ],
   "source": [
    "print(bottom_card)"
   ]
  },
  {
   "cell_type": "code",
   "execution_count": 192,
   "metadata": {},
   "outputs": [
    {
     "name": "stdout",
     "output_type": "stream",
     "text": [
      "Six of cardClubs\n",
      "Four of cardClubs\n",
      "Eight of cardDiamonds\n",
      "Two of cardDiamonds\n",
      "Ten of cardSpades\n",
      "Seven of cardSpades\n",
      "Five of cardDiamonds\n",
      "Two of cardClubs\n",
      "Seven of cardHearts\n",
      "Nine of cardDiamonds\n",
      "Two of cardSpades\n",
      "Ten of cardHearts\n",
      "Nine of cardHearts\n",
      "Ten of cardClubs\n",
      "Eight of cardSpades\n",
      "Six of cardDiamonds\n",
      "Six of cardSpades\n",
      "Five of cardClubs\n",
      "Three of cardClubs\n",
      "Seven of cardDiamonds\n",
      "Five of cardSpades\n",
      "Nine of cardClubs\n",
      "Two of cardHearts\n",
      "Five of cardHearts\n",
      "Three of cardHearts\n",
      "Three of cardDiamonds\n",
      "Three of cardSpades\n",
      "Four of cardSpades\n",
      "Four of cardHearts\n",
      "Eight of cardClubs\n",
      "Seven of cardClubs\n",
      "Nine of cardSpades\n",
      "Six of cardHearts\n",
      "Four of cardDiamonds\n",
      "Eight of cardHearts\n",
      "Ten of cardDiamonds\n"
     ]
    }
   ],
   "source": [
    "for card_object in new_deck.all_cards:\n",
    "    print(card_object)"
   ]
  },
  {
   "cell_type": "code",
   "execution_count": 193,
   "metadata": {},
   "outputs": [],
   "source": [
    "class Player:\n",
    "\n",
    "    def __init__(self,name):\n",
    "\n",
    "        self.name = name\n",
    "        self.all_cards= []\n",
    "    def remove_one(self):\n",
    "        pass\n",
    "    def add_cards(self,new_cards):\n",
    "        if type(new_cards) == type([]):\n",
    "            # List of multiple Card objects\n",
    "            self.add_cards.extend(new_cards)\n",
    "        else:\n",
    "            # For a single card object\n",
    "            self.all_cards.append(new_cards)\n",
    "        def __str__(self):\n",
    "             return f'Player {self.name} has {len(self.add_cards)} cards.'"
   ]
  },
  {
   "cell_type": "code",
   "execution_count": 194,
   "metadata": {},
   "outputs": [],
   "source": [
    "new_player = Player(\"Jose\")"
   ]
  },
  {
   "cell_type": "code",
   "execution_count": 195,
   "metadata": {},
   "outputs": [
    {
     "name": "stdout",
     "output_type": "stream",
     "text": [
      "<__main__.Player object at 0x00000167DFB23A00>\n"
     ]
    }
   ],
   "source": [
    "print(new_player)"
   ]
  },
  {
   "cell_type": "code",
   "execution_count": 196,
   "metadata": {},
   "outputs": [],
   "source": [
    "new_player.remove_one()"
   ]
  },
  {
   "cell_type": "code",
   "execution_count": 197,
   "metadata": {},
   "outputs": [
    {
     "name": "stdout",
     "output_type": "stream",
     "text": [
      "<__main__.Player object at 0x00000167DFB23A00>\n"
     ]
    }
   ],
   "source": [
    "print(new_player)"
   ]
  },
  {
   "cell_type": "code",
   "execution_count": 206,
   "metadata": {},
   "outputs": [
    {
     "ename": "TypeError",
     "evalue": "'list' object is not callable",
     "output_type": "error",
     "traceback": [
      "\u001b[1;31m---------------------------------------------------------------------------\u001b[0m",
      "\u001b[1;31mTypeError\u001b[0m                                 Traceback (most recent call last)",
      "Cell \u001b[1;32mIn [206], line 9\u001b[0m\n\u001b[0;32m      6\u001b[0m new_deck\u001b[39m.\u001b[39mshuffle()\n\u001b[0;32m      8\u001b[0m \u001b[39mfor\u001b[39;00m x \u001b[39min\u001b[39;00m \u001b[39mrange\u001b[39m(\u001b[39m26\u001b[39m):\n\u001b[1;32m----> 9\u001b[0m     player_one\u001b[39m.\u001b[39madd_cards(new_deck\u001b[39m.\u001b[39;49mdeal_one(\u001b[39m'\u001b[39;49m\u001b[39mu\u001b[39;49m\u001b[39m'\u001b[39;49m,\u001b[39m'\u001b[39;49m\u001b[39mk\u001b[39;49m\u001b[39m'\u001b[39;49m))\n\u001b[0;32m     10\u001b[0m     player_two\u001b[39m.\u001b[39madd_cards(new_deck\u001b[39m.\u001b[39mdeal_one(\u001b[39m'\u001b[39m\u001b[39mk\u001b[39m\u001b[39m'\u001b[39m,\u001b[39m'\u001b[39m\u001b[39mo\u001b[39m\u001b[39m'\u001b[39m))\n",
      "Cell \u001b[1;32mIn [186], line 19\u001b[0m, in \u001b[0;36mDeck.deal_one\u001b[1;34m(self, player_one, player_two)\u001b[0m\n\u001b[0;32m     17\u001b[0m \u001b[39mself\u001b[39m\u001b[39m.\u001b[39mplayer_one \u001b[39m=\u001b[39m player_one\n\u001b[0;32m     18\u001b[0m \u001b[39mself\u001b[39m\u001b[39m.\u001b[39mplayer_two \u001b[39m=\u001b[39m player_two\n\u001b[1;32m---> 19\u001b[0m \u001b[39mreturn\u001b[39;00m \u001b[39mself\u001b[39;49m\u001b[39m.\u001b[39;49mall_cards()\n",
      "\u001b[1;31mTypeError\u001b[0m: 'list' object is not callable"
     ]
    }
   ],
   "source": [
    "# GAME SETUP\n",
    "player_one = Player('One')\n",
    "player_two = Player('Two')\n",
    "\n",
    "new_deck = Deck()\n",
    "new_deck.shuffle()\n",
    "\n",
    "for x in range(26):\n",
    "    player_one.add_cards(new_deck.deal_one('u','k'))\n",
    "    player_two.add_cards(new_deck.deal_one('k','o'))\n"
   ]
  },
  {
   "cell_type": "code",
   "execution_count": null,
   "metadata": {},
   "outputs": [],
   "source": []
  }
 ],
 "metadata": {
  "kernelspec": {
   "display_name": "Python 3.9.13 64-bit (microsoft store)",
   "language": "python",
   "name": "python3"
  },
  "language_info": {
   "codemirror_mode": {
    "name": "ipython",
    "version": 3
   },
   "file_extension": ".py",
   "mimetype": "text/x-python",
   "name": "python",
   "nbconvert_exporter": "python",
   "pygments_lexer": "ipython3",
   "version": "3.9.13"
  },
  "orig_nbformat": 4,
  "vscode": {
   "interpreter": {
    "hash": "1b7de114fc1b42d2c07cc0d61683036c9ba07d13b5985d6505bdd0ceb729be87"
   }
  }
 },
 "nbformat": 4,
 "nbformat_minor": 2
}
